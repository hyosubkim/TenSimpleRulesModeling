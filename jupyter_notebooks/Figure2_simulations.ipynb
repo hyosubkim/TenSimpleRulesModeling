{
 "cells": [
  {
   "cell_type": "code",
   "execution_count": 1,
   "metadata": {},
   "outputs": [],
   "source": [
    "import io, os, sys, types\n",
    "import import_ipynb"
   ]
  },
  {
   "cell_type": "code",
   "execution_count": 2,
   "metadata": {},
   "outputs": [
    {
     "name": "stdout",
     "output_type": "stream",
     "text": [
      "importing Jupyter notebook from SimulationFunctions.ipynb\n"
     ]
    }
   ],
   "source": [
    "import numpy as np\n",
    "import matplotlib.pyplot as plt\n",
    "import pandas as pd\n",
    "from SimulationFunctions import *"
   ]
  },
  {
   "cell_type": "code",
   "execution_count": null,
   "metadata": {},
   "outputs": [],
   "source": [
    "ls"
   ]
  },
  {
   "cell_type": "code",
   "execution_count": 3,
   "metadata": {},
   "outputs": [],
   "source": [
    "# experiment parameters\n",
    "T = 100\n",
    "mu = np.array([0.2, 0.8])\n",
    "\n",
    "# number of repetitions for simulations\n",
    "Nrep = 110\n",
    "sim = [{'a': np.zeros((T, Nrep)), 'r': np.zeros((T, Nrep)), 'wsls': np.zeros((2, Nrep))}, \\\n",
    "       {'a': np.zeros((T, Nrep)), 'r': np.zeros((T, Nrep)), 'wsls': np.zeros((2, Nrep))}, \\\n",
    "       {'a': np.zeros((T, Nrep)), 'r': np.zeros((T, Nrep)), 'wsls': np.zeros((2, Nrep))}, \\\n",
    "       {'a': np.zeros((T, Nrep)), 'r': np.zeros((T, Nrep)), 'wsls': np.zeros((2, Nrep))}, \\\n",
    "       {'a': np.zeros((T, Nrep)), 'r': np.zeros((T, Nrep)), 'wsls': np.zeros((2, Nrep))}]\n",
    "\n",
    "# Model 1: Random responding\n",
    "for n in range(Nrep):\n",
    "    b = 0.5\n",
    "    a, r = simulate_M1random_v1(T, mu, b)\n",
    "    sim[0]['a'][:, n] = a\n",
    "    sim[0]['r'][:, n] = r\n",
    "    \n",
    "# Model 2: Win-stay-lose-shift\n",
    "for n in range(Nrep):\n",
    "    epsilon = 0.1\n",
    "    a, r = simulate_M2WSLS_v1(T, mu, epsilon)\n",
    "    sim[1]['a'][:, n] = a\n",
    "    sim[1]['r'][:, n] = r\n",
    "\n",
    "# Model 3: Rescorla Wagner\n",
    "for n in range(Nrep):\n",
    "    alpha = 0.1\n",
    "    beta = 5\n",
    "    a, r = simulate_M3RescorlaWagner_v1(T, mu, alpha, beta)\n",
    "    sim[2]['a'][:, n] = a\n",
    "    sim[2]['r'][:, n] = r\n",
    "    \n",
    "# Model 4: Choice kernel\n",
    "for n in range(Nrep):\n",
    "    alpha_c = 0.1\n",
    "    beta_c = 3\n",
    "    a, r = simulate_M4ChoiceKernel_v1(T, mu, alpha_c, beta_c)\n",
    "    sim[3]['a'][:, n] = a\n",
    "    sim[3]['r'][:, n] = r\n",
    "\n",
    "# Model 5: Rescorla-Wagner + choice kernel\n",
    "for n in range(Nrep):\n",
    "    alpha = 0.1\n",
    "    beta = 5\n",
    "    alpha_c = 0.1\n",
    "    beta_c = 1\n",
    "    a, r = simulate_M5RWCK_v1(T, mu, alpha, beta, alpha_c, beta_c)\n",
    "    sim[4]['a'][:, n] = a\n",
    "    sim[4]['r'][:, n] = r\n",
    "    "
   ]
  },
  {
   "cell_type": "code",
   "execution_count": 4,
   "metadata": {},
   "outputs": [],
   "source": [
    "def analysis_WSLS_v1(a, r):\n",
    "    \n",
    "    aLast = np.append(np.nan, a[0:-1])\n",
    "    stay = aLast == a\n",
    "    rLast = np.append(np.nan, r[0:-1])\n",
    "                      \n",
    "    winStay = np.nanmean(stay[rLast == 1])\n",
    "    loseStay = np.nanmean(stay[rLast == 0])\n",
    "    out = np.array([loseStay, winStay])\n",
    "    \n",
    "    return out\n"
   ]
  },
  {
   "cell_type": "code",
   "execution_count": 5,
   "metadata": {},
   "outputs": [],
   "source": [
    "# win-stay-lose-shift analysis\n",
    "wsls = np.zeros((2, len(sim)))\n",
    "for i in range(len(sim)):\n",
    "    for n in range(Nrep):\n",
    "        sim[i]['wsls'][:, n] = analysis_WSLS_v1(sim[i]['a'][:,n], sim[i]['r'][:, n])\n",
    "    wsls[:, i] = np.nanmean(sim[i]['wsls'], axis=1)"
   ]
  },
  {
   "cell_type": "code",
   "execution_count": 6,
   "metadata": {},
   "outputs": [
    {
     "data": {
      "text/plain": [
       "Text(0, 0.5, 'probability of staying')"
      ]
     },
     "execution_count": 6,
     "metadata": {},
     "output_type": "execute_result"
    },
    {
     "data": {
      "image/png": "[encoded data removed]",
      "text/plain": [
       "<Figure size 432x288 with 1 Axes>"
      ]
     },
     "metadata": {
      "needs_background": "light"
     },
     "output_type": "display_data"
    }
   ],
   "source": [
    "# plot WSLS behavior for all models\n",
    "plt.figure()\n",
    "plt.plot([0, 1], wsls, '.-', markersize=20, linewidth=2)\n",
    "plt.ylim([0, 1])\n",
    "plt.legend([\"M1: random\", \"M2: WSLS\", \"M3: RW\", \"M4: CK\", \"M5: RW+CK\"])\n",
    "plt.xticks([0, 1])\n",
    "plt.xlabel('previous reward')\n",
    "plt.ylabel('probability of staying')"
   ]
  },
  {
   "cell_type": "code",
   "execution_count": null,
   "metadata": {},
   "outputs": [],
   "source": []
  }
 ],
 "metadata": {
  "kernelspec": {
   "display_name": "Python 3",
   "language": "python",
   "name": "python3"
  },
  "language_info": {
   "codemirror_mode": {
    "name": "ipython",
    "version": 3
   },
   "file_extension": ".py",
   "mimetype": "text/x-python",
   "name": "python",
   "nbconvert_exporter": "python",
   "pygments_lexer": "ipython3",
   "version": "3.7.6"
  }
 },
 "nbformat": 4,
 "nbformat_minor": 4
}
